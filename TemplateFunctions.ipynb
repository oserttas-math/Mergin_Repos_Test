{
 "cells": [
  {
   "cell_type": "code",
   "execution_count": 1,
   "metadata": {},
   "outputs": [],
   "source": [
    "import pandas as pd\n",
    "import numpy as np\n",
    "import matplotlib.pyplot as plt\n",
    "import seaborn as sns\n"
   ]
  },
  {
   "cell_type": "code",
   "execution_count": null,
   "metadata": {},
   "outputs": [],
   "source": [
    "def excel_open(file):\n",
    "    '''Excel reader to dataframe'''\n",
    "    xl = pd.ExcelFile(file)\n",
    "    parsed = xl.parse()\n",
    "    return parsed"
   ]
  },
  {
   "cell_type": "code",
   "execution_count": 2,
   "metadata": {},
   "outputs": [],
   "source": [
    "def to_excel(df,excel_name,sheet):\n",
    "    '''Excel Writer To Current Directory'''\n",
    "    writer = pd.ExcelWriter(excel_name)\n",
    "    df.to_excel(writer,sheet)\n",
    "    return writer.save()\n",
    "    "
   ]
  },
  {
   "cell_type": "code",
   "execution_count": 4,
   "metadata": {},
   "outputs": [],
   "source": [
    "def format_date(date):\n",
    "    '''This Function Format the Date\n",
    "        to Year Month Day'''\n",
    "    month_map = {'jan': '01', 'feb': '02', 'mar': '03',\n",
    "                 'apr': '04', 'may': '05', 'jun': '06',\n",
    "                 'jul': '07'}\n",
    "    date = date.strip().lower().replace(\",\", \"\")\n",
    "    m, d, y = date.split()\n",
    "    if len(y) == 2:\n",
    "        y = '19' + y\n",
    "    if len(d) == 1:\n",
    "        d = '0' + d\n",
    "    return y + \"-\" + month_map[m[:3]] + \"-\" + d\n"
   ]
  },
  {
   "cell_type": "code",
   "execution_count": null,
   "metadata": {},
   "outputs": [],
   "source": [
    "def detect_outlier(df):\n",
    "    '''This function detects outliers with using\n",
    "        z-score normalization'''\n",
    "    from scipy.stats import zscore\n",
    "    \n",
    "    standadized = df.groupby('column')['col-intrest'].transform(zscore)\n",
    "    \n",
    "    outliers = 'define your conditions'\n",
    "    \n",
    "    df_outliers = df.loc[outliers]\n",
    "    \n",
    "    return df_outliers\n",
    "    "
   ]
  }
 ],
 "metadata": {
  "kernelspec": {
   "display_name": "Python 3",
   "language": "python",
   "name": "python3"
  },
  "language_info": {
   "codemirror_mode": {
    "name": "ipython",
    "version": 3
   },
   "file_extension": ".py",
   "mimetype": "text/x-python",
   "name": "python",
   "nbconvert_exporter": "python",
   "pygments_lexer": "ipython3",
   "version": "3.6.4"
  }
 },
 "nbformat": 4,
 "nbformat_minor": 2
}
