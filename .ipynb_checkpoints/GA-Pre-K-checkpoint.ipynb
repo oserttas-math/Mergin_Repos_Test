{
 "cells": [
  {
   "cell_type": "code",
   "execution_count": 1,
   "metadata": {},
   "outputs": [],
   "source": [
    "import numpy as np\n",
    "from numpy import random\n",
    "import matplotlib.pyplot as plt\n",
    "np.random.seed(0)"
   ]
  },
  {
   "cell_type": "code",
   "execution_count": 6,
   "metadata": {},
   "outputs": [],
   "source": [
    " population = range(100000)"
   ]
  },
  {
   "cell_type": "code",
   "execution_count": 51,
   "metadata": {},
   "outputs": [
    {
     "data": {
      "image/png": "[encoded data removed]",
      "text/plain": [
       "<matplotlib.figure.Figure at 0x109ee0780>"
      ]
     },
     "metadata": {},
     "output_type": "display_data"
    },
    {
     "name": "stdout",
     "output_type": "stream",
     "text": [
      "Mean 49921.13408163265\n"
     ]
    }
   ],
   "source": [
    "sampling = []\n",
    "\n",
    "for i in range(1,50):\n",
    "    i = np.mean(np.random.choice(population,size=100))\n",
    "    sampling.append(i)\n",
    "sampling\n",
    "plt.hist(sampling)\n",
    "plt.axvline(np.mean(sampling),c='red')\n",
    "plt.title('Ten Samples of size 50')\n",
    "plt.show()\n",
    "print('Mean {}'.format(np.mean(sampling)))"
   ]
  },
  {
   "cell_type": "code",
   "execution_count": 52,
   "metadata": {},
   "outputs": [
    {
     "data": {
      "image/png": "[encoded data removed]",
      "text/plain": [
       "<matplotlib.figure.Figure at 0x10ff6e3c8>"
      ]
     },
     "metadata": {},
     "output_type": "display_data"
    },
    {
     "name": "stdout",
     "output_type": "stream",
     "text": [
      "Mean 50059.293530534356\n"
     ]
    }
   ],
   "source": [
    "for i in range(1,1000):\n",
    "    i = np.mean(np.random.choice(population,size=100))\n",
    "    sampling.append(i)\n",
    "sampling\n",
    "plt.hist(sampling)\n",
    "plt.title('Hundred Samples of size 200')\n",
    "plt.show()\n",
    "print('Mean {}'.format(np.mean(sampling)))"
   ]
  },
  {
   "cell_type": "markdown",
   "metadata": {},
   "source": [
    "_According to `Central Limit Theorem` as the sample size gets larger and larger the distrubition of sampling distribution tends to normal distribution_"
   ]
  },
  {
   "cell_type": "code",
   "execution_count": null,
   "metadata": {},
   "outputs": [],
   "source": []
  }
 ],
 "metadata": {
  "kernelspec": {
   "display_name": "Python 3",
   "language": "python",
   "name": "python3"
  },
  "language_info": {
   "codemirror_mode": {
    "name": "ipython",
    "version": 3
   },
   "file_extension": ".py",
   "mimetype": "text/x-python",
   "name": "python",
   "nbconvert_exporter": "python",
   "pygments_lexer": "ipython3",
   "version": "3.6.4"
  }
 },
 "nbformat": 4,
 "nbformat_minor": 2
}
